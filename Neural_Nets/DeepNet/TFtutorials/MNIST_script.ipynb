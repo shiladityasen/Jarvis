{
 "cells": [
  {
   "cell_type": "code",
   "execution_count": 140,
   "metadata": {
    "collapsed": true
   },
   "outputs": [],
   "source": [
    "import tensorflow as tf\n",
    "import numpy as np\n",
    "import matplotlib.pyplot as plt"
   ]
  },
  {
   "cell_type": "code",
   "execution_count": 141,
   "metadata": {
    "collapsed": false
   },
   "outputs": [],
   "source": [
    "# Get MNIST dataset\n",
    "def get_mnist():\n",
    "    from tensorflow.examples.tutorials.mnist import input_data\n",
    "    mnist = input_data.read_data_sets(\"MNIST_data/\", one_hot=True)\n",
    "    \n",
    "    x_train, y_train = mnist[0].next_batch(55000)\n",
    "    x_valid, y_valid = mnist[1].next_batch(5000)\n",
    "    x_test, y_test = mnist[2].next_batch(10000)\n",
    "        \n",
    "    return ([x_train, y_train], [x_valid, y_valid], [x_test, y_test])"
   ]
  },
  {
   "cell_type": "code",
   "execution_count": 142,
   "metadata": {
    "collapsed": false
   },
   "outputs": [],
   "source": [
    "def display_training_image(train_ix):\n",
    "    x = x_train[train_ix]\n",
    "    img = np.reshape(x, (28, 28))\n",
    "    y = y_train[train_ix]\n",
    "\n",
    "    plt.imshow(1-img, cmap=plt.get_cmap('gray'))\n",
    "    plt.show()\n",
    "    print np.where(y != 0)[0][0]"
   ]
  },
  {
   "cell_type": "code",
   "execution_count": 143,
   "metadata": {
    "collapsed": false
   },
   "outputs": [],
   "source": [
    "# Build graph\n",
    "def build_network(n_inputs, n_outputs):\n",
    "    x = tf.placeholder('float', [None, n_inputs], name='x')\n",
    "    y = tf.placeholder('float', [None, n_outputs], name='y')\n",
    "\n",
    "    w = tf.Variable(tf.random_uniform([n_inputs, n_outputs], name='rng'), name='w')\n",
    "    b = tf.Variable(tf.zeros([n_outputs], name='zeros'), name='b')\n",
    "    output = tf.add(tf.matmul(x, w, name='wx'), b, name='wx_plus_b')\n",
    "\n",
    "    error = tf.nn.sigmoid_cross_entropy_with_logits(output, y, name='error')\n",
    "    train_step = tf.train.GradientDescentOptimizer(0.001, name='grad_descent').minimize(error)\n",
    "    \n",
    "    return (x, y, w, b, train_step)"
   ]
  },
  {
   "cell_type": "code",
   "execution_count": 144,
   "metadata": {
    "collapsed": true
   },
   "outputs": [],
   "source": [
    "# Predict\n",
    "def predict(x, w, b):\n",
    "    y = np.dot(x, w) + b\n",
    "    return np.argmax(y, axis=1)"
   ]
  },
  {
   "cell_type": "code",
   "execution_count": 145,
   "metadata": {
    "collapsed": false
   },
   "outputs": [
    {
     "name": "stdout",
     "output_type": "stream",
     "text": [
      "Extracting MNIST_data/train-images-idx3-ubyte.gz\n",
      "Extracting MNIST_data/train-labels-idx1-ubyte.gz\n",
      "Extracting MNIST_data/t10k-images-idx3-ubyte.gz\n",
      "Extracting MNIST_data/t10k-labels-idx1-ubyte.gz\n"
     ]
    }
   ],
   "source": [
    "# Run graph\n",
    "[x_train, y_train], [x_valid, y_valid], [x_test, y_test] = get_mnist()\n",
    "n_training, n_features = x_train.shape\n",
    "n_classes = y_train.shape[1]\n",
    "\n",
    "x, y, w, b, train_step = build_network(n_features, n_classes)\n",
    "\n",
    "max_iter = 2000\n",
    "batch_size = 100\n",
    "with tf.Session() as session:\n",
    "    session.run(tf.initialize_all_variables())\n",
    "    x_train_batches = np.vsplit(x_train, n_training/batch_size)\n",
    "    y_train_batches = np.vsplit(y_train, n_training/batch_size)\n",
    "    for i in xrange(max_iter):\n",
    "        for x_train_batch, y_train_batch in zip(x_train_batches, y_train_batches):\n",
    "            session.run(train_step, feed_dict={x: x_train_batch, y: y_train_batch})\n",
    "    weights = session.run(w)\n",
    "    biases = session.run(b)"
   ]
  },
  {
   "cell_type": "code",
   "execution_count": 146,
   "metadata": {
    "collapsed": false
   },
   "outputs": [
    {
     "name": "stdout",
     "output_type": "stream",
     "text": [
      "92.9309090909\n"
     ]
    }
   ],
   "source": [
    "y_train_predict = predict(x_train, weights, biases)\n",
    "y_train_label = np.argmax(y_train, axis=1)\n",
    "print np.sum(y_train_predict == y_train_label)/(len(y_train_label)+0.0)*100"
   ]
  },
  {
   "cell_type": "code",
   "execution_count": 147,
   "metadata": {
    "collapsed": false
   },
   "outputs": [
    {
     "name": "stdout",
     "output_type": "stream",
     "text": [
      "91.95\n"
     ]
    }
   ],
   "source": [
    "y_test_predict = predict(x_test, weights, biases)\n",
    "y_test_label = np.argmax(y_test, axis=1)\n",
    "print np.sum(y_test_predict == y_test_label)/(len(y_test_label)+0.0)*100"
   ]
  },
  {
   "cell_type": "code",
   "execution_count": null,
   "metadata": {
    "collapsed": true
   },
   "outputs": [],
   "source": []
  }
 ],
 "metadata": {
  "kernelspec": {
   "display_name": "Python 2",
   "language": "python",
   "name": "python2"
  },
  "language_info": {
   "codemirror_mode": {
    "name": "ipython",
    "version": 2
   },
   "file_extension": ".py",
   "mimetype": "text/x-python",
   "name": "python",
   "nbconvert_exporter": "python",
   "pygments_lexer": "ipython2",
   "version": "2.7.10"
  }
 },
 "nbformat": 4,
 "nbformat_minor": 1
}
