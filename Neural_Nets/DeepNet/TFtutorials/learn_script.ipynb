{
 "cells": [
  {
   "cell_type": "code",
   "execution_count": 1,
   "metadata": {
    "collapsed": true
   },
   "outputs": [],
   "source": [
    "import tensorflow as tf\n",
    "import numpy as np\n",
    "import matplotlib.pyplot as plt\n",
    "from mlp import neural_net"
   ]
  },
  {
   "cell_type": "code",
   "execution_count": 2,
   "metadata": {
    "collapsed": true
   },
   "outputs": [],
   "source": [
    "def get_iris():\n",
    "    x_train, y_train = tf.contrib.learn.datasets.base.load_csv_with_header('../Datasets/iris_training.csv', \n",
    "                                                                           target_dtype=np.int, \n",
    "                                                                           features_dtype=np.float64)\n",
    "    x_test, y_test = tf.contrib.learn.datasets.base.load_csv_with_header('../Datasets/iris_test.csv', \n",
    "                                                                         target_dtype=np.int, \n",
    "                                                                         features_dtype=np.float64)\n",
    "    y_train = np.eye(3)[y_train]\n",
    "    y_test = np.eye(3)[y_test]\n",
    "    return ([x_train, y_train], [x_test, y_test])\n",
    "\n",
    "[x_train, y_train], [x_test, y_test] = get_iris()"
   ]
  },
  {
   "cell_type": "code",
   "execution_count": 12,
   "metadata": {
    "collapsed": false
   },
   "outputs": [
    {
     "name": "stdout",
     "output_type": "stream",
     "text": [
      "0.983333333333\n",
      "0.966666666667\n",
      "======================\n",
      "0.975\n",
      "0.966666666667\n",
      "======================\n",
      "0.35\n",
      "0.266666666667\n",
      "======================\n",
      "0.35\n",
      "0.266666666667\n",
      "======================\n",
      "0.35\n",
      "0.266666666667\n",
      "======================\n",
      "0.35\n",
      "0.266666666667\n",
      "======================\n",
      "0.7\n",
      "0.533333333333\n",
      "======================\n",
      "0.35\n",
      "0.266666666667\n",
      "======================\n",
      "0.35\n",
      "0.3\n",
      "======================\n",
      "0.983333333333\n",
      "1.0\n",
      "======================\n"
     ]
    }
   ],
   "source": [
    "for _ in xrange(10):\n",
    "    mlp = neural_net(layers=[4, 10, 20, 10, 3], activations=[tf.nn.relu]*3+[None], \n",
    "                     error=tf.nn.softmax_cross_entropy_with_logits)\n",
    "    W, B = mlp.train(x_train, y_train, batch_size=120, step_size=0.05, max_iters=2000)\n",
    "\n",
    "    y_pred = mlp.predict(x_train)\n",
    "    print np.sum(np.argmax(y_pred, 1) == np.argmax(y_train, 1))/(len(y_pred)+0.0)\n",
    "\n",
    "    y_pred = mlp.predict(x_test)\n",
    "    print np.sum(np.argmax(y_pred, 1) == np.argmax(y_test, 1))/(len(y_pred)+0.0)\n",
    "    \n",
    "    print '======================'"
   ]
  },
  {
   "cell_type": "code",
   "execution_count": null,
   "metadata": {
    "collapsed": true
   },
   "outputs": [],
   "source": []
  }
 ],
 "metadata": {
  "kernelspec": {
   "display_name": "Python 2",
   "language": "python",
   "name": "python2"
  },
  "language_info": {
   "codemirror_mode": {
    "name": "ipython",
    "version": 2
   },
   "file_extension": ".py",
   "mimetype": "text/x-python",
   "name": "python",
   "nbconvert_exporter": "python",
   "pygments_lexer": "ipython2",
   "version": "2.7.10"
  }
 },
 "nbformat": 4,
 "nbformat_minor": 1
}
